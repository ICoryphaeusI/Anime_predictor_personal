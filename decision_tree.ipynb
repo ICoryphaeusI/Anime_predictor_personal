{
 "cells": [
  {
   "cell_type": "code",
   "execution_count": 24,
   "metadata": {},
   "outputs": [
    {
     "name": "stdout",
     "output_type": "stream",
     "text": [
      "Mean Squared Error: 0.74\n",
      "R-squared: 0.13\n"
     ]
    }
   ],
   "source": [
    "from sklearn.model_selection import train_test_split\n",
    "from sklearn.tree import DecisionTreeRegressor\n",
    "from sklearn.metrics import mean_squared_error, r2_score\n",
    "import pandas as pd\n",
    "\n",
    "dataset = pd.read_csv('clean_data.csv')\n",
    "\n",
    "X = dataset.iloc[:, 1:].values\n",
    "y = dataset.iloc[:, 0].values\n",
    "X_train, X_test, y_train, y_test = train_test_split(X, y, test_size=0.2, random_state=42)\n",
    "\n",
    "# Создание и обучение модели дерева решений\n",
    "tree_model = DecisionTreeRegressor(random_state=42)\n",
    "tree_model.fit(X_train, y_train)\n",
    "\n",
    "# Предсказание на тестовой выборке\n",
    "y_pred = tree_model.predict(X_test)\n",
    "\n",
    "# Оценка качества модели\n",
    "mse = mean_squared_error(y_test, y_pred)\n",
    "r2 = r2_score(y_test, y_pred)\n",
    "\n",
    "print(f\"Mean Squared Error: {mse:.2f}\")\n",
    "print(f\"R-squared: {r2:.2f}\")"
   ]
  },
  {
   "cell_type": "code",
   "execution_count": 35,
   "metadata": {},
   "outputs": [
    {
     "name": "stdout",
     "output_type": "stream",
     "text": [
      "Best Parameters: {'max_depth': 17, 'min_samples_leaf': 14, 'min_samples_split': 104}\n"
     ]
    }
   ],
   "source": [
    "from sklearn.model_selection import GridSearchCV\n",
    "from sklearn.tree import DecisionTreeRegressor\n",
    "\n",
    "# Создание модели DecisionTreeRegressor\n",
    "model = DecisionTreeRegressor()\n",
    "\n",
    "# Определение диапазонов значений для параметров\n",
    "param_grid = {\n",
    "    'max_depth': [1,2,3,4,5,6,7,8,9,10,11,12,13,14,15,16,17],            # Пример диапазона глубины дерева\n",
    "    'min_samples_split': [96,97,98,99,100,101,102,103,104],     # Пример диапазона количества наблюдений для разделения ветви\n",
    "    'min_samples_leaf': [5,6,7,8,9,10,11,12,13,14,15]         # Пример диапазона количества наблюдений в листе\n",
    "}\n",
    "\n",
    "# Создание объекта GridSearchCV\n",
    "grid_search = GridSearchCV(model, param_grid, cv=5, scoring='neg_mean_squared_error')\n",
    "\n",
    "# Обучение GridSearchCV на данных\n",
    "grid_search.fit(X_train, y_train)\n",
    "\n",
    "# Вывод наилучших параметров\n",
    "print(\"Best Parameters:\", grid_search.best_params_)"
   ]
  },
  {
   "cell_type": "code",
   "execution_count": 48,
   "metadata": {},
   "outputs": [
    {
     "name": "stdout",
     "output_type": "stream",
     "text": [
      "Mean Squared Error: 0.49894753539479814\n",
      "R-squared: 0.41770180633860365\n"
     ]
    }
   ],
   "source": [
    "# Создаем экземпляр модели с оптимальными параметрами\n",
    "best_model = DecisionTreeRegressor(max_depth=17, min_samples_leaf=14, min_samples_split=104)\n",
    "\n",
    "# Обучаем модель на тренировочных данных\n",
    "best_model.fit(X_train, y_train)\n",
    "\n",
    "# Предсказываем значения на тестовых данных\n",
    "y_pred = best_model.predict(X_test)\n",
    "\n",
    "# Вычисляем метрики\n",
    "mse = mean_squared_error(y_test, y_pred)\n",
    "r2 = r2_score(y_test, y_pred)\n",
    "\n",
    "print(\"Mean Squared Error:\", mse)\n",
    "print(\"R-squared:\", r2)"
   ]
  },
  {
   "cell_type": "code",
   "execution_count": 49,
   "metadata": {},
   "outputs": [
    {
     "name": "stdout",
     "output_type": "stream",
     "text": [
      "Best Parameters: {'max_depth': 10, 'min_samples_leaf': 4, 'min_samples_split': 10}\n",
      "Mean Squared Error: 0.5037202563963695\n",
      "R-squared: 0.41213178820860974\n",
      "R-squared (using score method): 0.41213178820860974\n",
      "Mean Absolute Error: 0.5471771359416936\n"
     ]
    }
   ],
   "source": [
    "from sklearn.metrics import mean_absolute_error\n",
    "model = DecisionTreeRegressor()\n",
    "\n",
    "# Задайте параметры для перебора в Grid Search\n",
    "param_grid = {\n",
    "    'max_depth': [5, 10, 15],\n",
    "    'min_samples_split': [2, 5, 10],\n",
    "    'min_samples_leaf': [1, 2, 4],\n",
    "}\n",
    "\n",
    "# Создайте объект GridSearchCV\n",
    "grid_search = GridSearchCV(model, param_grid, cv=5, scoring='neg_mean_squared_error')\n",
    "\n",
    "# Обучите Grid Search на данных\n",
    "grid_search.fit(X_train, y_train)\n",
    "\n",
    "# Выведите лучшие параметры\n",
    "print(\"Best Parameters:\", grid_search.best_params_)\n",
    "\n",
    "# Получите лучшую модель из Grid Search\n",
    "best_model = grid_search.best_estimator_\n",
    "\n",
    "# Оцените модель на тестовых данных\n",
    "y_pred = best_model.predict(X_test)\n",
    "\n",
    "# Вычислите и выведите значения метрик\n",
    "mse = mean_squared_error(y_test, y_pred)\n",
    "r2 = r2_score(y_test, y_pred)\n",
    "print(\"Mean Squared Error:\", mse)\n",
    "print(\"R-squared:\", r2)\n",
    "\n",
    "# Оцените модель на тестовых данных с использованием метода score\n",
    "score = best_model.score(X_test, y_test)\n",
    "score = best_model.score(X_test, y_test)\n",
    "print(\"R-squared (using score method):\", score)\n",
    "\n",
    "# Вычислите и выведите Mean Absolute Error\n",
    "mae = mean_absolute_error(y_test, y_pred)\n",
    "print(\"Mean Absolute Error:\", mae)"
   ]
  }
 ],
 "metadata": {
  "kernelspec": {
   "display_name": "base",
   "language": "python",
   "name": "python3"
  },
  "language_info": {
   "codemirror_mode": {
    "name": "ipython",
    "version": 3
   },
   "file_extension": ".py",
   "mimetype": "text/x-python",
   "name": "python",
   "nbconvert_exporter": "python",
   "pygments_lexer": "ipython3",
   "version": "3.9.13"
  },
  "orig_nbformat": 4
 },
 "nbformat": 4,
 "nbformat_minor": 2
}
