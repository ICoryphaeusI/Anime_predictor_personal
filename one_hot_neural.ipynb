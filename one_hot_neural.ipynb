{
 "cells": [
  {
   "cell_type": "code",
   "execution_count": 5,
   "metadata": {},
   "outputs": [
    {
     "name": "stdout",
     "output_type": "stream",
     "text": [
      "Epoch 1/20\n",
      "257/257 [==============================] - 12s 46ms/step - loss: 1.8736 - val_loss: 0.5590\n",
      "Epoch 2/20\n",
      "257/257 [==============================] - 11s 44ms/step - loss: 0.4034 - val_loss: 0.4452\n",
      "Epoch 3/20\n",
      "257/257 [==============================] - 12s 47ms/step - loss: 0.2439 - val_loss: 0.5027\n",
      "Epoch 4/20\n",
      "257/257 [==============================] - 12s 45ms/step - loss: 0.1882 - val_loss: 0.4164\n",
      "Epoch 5/20\n",
      "257/257 [==============================] - 12s 48ms/step - loss: 0.1544 - val_loss: 0.4191\n",
      "Epoch 6/20\n",
      "257/257 [==============================] - 12s 45ms/step - loss: 0.1374 - val_loss: 0.4272\n",
      "Epoch 7/20\n",
      "257/257 [==============================] - 12s 46ms/step - loss: 0.1236 - val_loss: 0.3959\n",
      "Epoch 8/20\n",
      "257/257 [==============================] - 13s 49ms/step - loss: 0.1120 - val_loss: 0.4003\n",
      "Epoch 9/20\n",
      "257/257 [==============================] - 13s 50ms/step - loss: 0.0995 - val_loss: 0.4146\n",
      "Epoch 10/20\n",
      "257/257 [==============================] - 12s 46ms/step - loss: 0.0950 - val_loss: 0.4058\n",
      "Epoch 11/20\n",
      "257/257 [==============================] - 12s 46ms/step - loss: 0.0879 - val_loss: 0.4035\n",
      "Epoch 12/20\n",
      "257/257 [==============================] - 13s 52ms/step - loss: 0.0851 - val_loss: 0.4423\n",
      "Epoch 13/20\n",
      "257/257 [==============================] - 13s 49ms/step - loss: 0.0840 - val_loss: 0.4043\n",
      "Epoch 14/20\n",
      "257/257 [==============================] - 12s 48ms/step - loss: 0.0763 - val_loss: 0.3894\n",
      "Epoch 15/20\n",
      "257/257 [==============================] - 12s 48ms/step - loss: 0.0680 - val_loss: 0.4666\n",
      "Epoch 16/20\n",
      "257/257 [==============================] - 13s 50ms/step - loss: 0.0699 - val_loss: 0.4480\n",
      "Epoch 17/20\n",
      "257/257 [==============================] - 12s 48ms/step - loss: 0.0689 - val_loss: 0.4234\n",
      "Epoch 18/20\n",
      "257/257 [==============================] - 13s 50ms/step - loss: 0.0616 - val_loss: 0.4133\n",
      "Epoch 19/20\n",
      "257/257 [==============================] - 12s 49ms/step - loss: 0.0572 - val_loss: 0.4134\n",
      "Epoch 20/20\n",
      "257/257 [==============================] - 13s 50ms/step - loss: 0.0558 - val_loss: 0.4290\n",
      "81/81 [==============================] - 2s 23ms/step\n",
      "Mean Squared Error: 0.4321065082611261\n",
      "Mean Absolute Error: 0.5053219448929873\n",
      "R^2 Score: 0.4957088243141762\n"
     ]
    }
   ],
   "source": [
    "import tensorflow as tf\n",
    "from sklearn.model_selection import train_test_split\n",
    "from sklearn.metrics import mean_squared_error, mean_absolute_error, r2_score\n",
    "import pandas as pd\n",
    "\n",
    "data = pd.read_csv('one_hot_data.csv')\n",
    "# Разделение на тренировочный и тестовый наборы\n",
    "X = data.drop('Rate', axis=1)\n",
    "y = data['Rate']\n",
    "X_train, X_test, y_train, y_test = train_test_split(X, y, test_size=0.2, random_state=42)\n",
    "\n",
    "# Создание нейронной сети\n",
    "model = tf.keras.models.Sequential([\n",
    "    tf.keras.layers.Input(shape=(X_train.shape[1],)),\n",
    "    tf.keras.layers.Dense(2048, activation='relu'),\n",
    "     tf.keras.layers.Flatten(),\n",
    "    tf.keras.layers.Dense(64, activation='relu'),\n",
    "    tf.keras.layers.Dense(1)  # Без активации на выходном слое для регрессии\n",
    "])\n",
    "\n",
    "# Компиляция модели\n",
    "model.compile(optimizer='adam', loss='mean_squared_error')  # Функция потерь для регрессии\n",
    "\n",
    "# Обучение модели\n",
    "model.fit(X_train, y_train, epochs=20, batch_size=32, validation_split=0.2)\n",
    "\n",
    "# Оценка модели на тестовом наборе\n",
    "y_pred = model.predict(X_test)\n",
    "mse = mean_squared_error(y_test, y_pred)\n",
    "mae = mean_absolute_error(y_test, y_pred)\n",
    "r2 = r2_score(y_test, y_pred)\n",
    "\n",
    "print(\"Mean Squared Error:\", mse)\n",
    "print(\"Mean Absolute Error:\", mae)\n",
    "print(\"R^2 Score:\", r2)\n"
   ]
  },
  {
   "cell_type": "code",
   "execution_count": null,
   "metadata": {},
   "outputs": [],
   "source": []
  }
 ],
 "metadata": {
  "kernelspec": {
   "display_name": "base",
   "language": "python",
   "name": "python3"
  },
  "language_info": {
   "codemirror_mode": {
    "name": "ipython",
    "version": 3
   },
   "file_extension": ".py",
   "mimetype": "text/x-python",
   "name": "python",
   "nbconvert_exporter": "python",
   "pygments_lexer": "ipython3",
   "version": "3.9.13"
  },
  "orig_nbformat": 4
 },
 "nbformat": 4,
 "nbformat_minor": 2
}
